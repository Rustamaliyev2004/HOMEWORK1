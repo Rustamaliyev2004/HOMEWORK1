{
 "cells": [
  {
   "cell_type": "code",
   "execution_count": 5,
   "id": "f330e64c-f1eb-4eb0-a13d-9a67c0cad6f0",
   "metadata": {},
   "outputs": [
    {
     "name": "stdout",
     "output_type": "stream",
     "text": [
      "{'name': 'Alice', 'age': 25, 'city': 'New York'}\n"
     ]
    }
   ],
   "source": [
    "def kwargsAcceptFun(**kwargs):\n",
    "    \"\"\"Function that accepts an arbitrary number of named arguments and prints them.\"\"\"\n",
    "    return kwargs\n",
    "\n",
    "print(kwargsAcceptFun(name=\"Alice\", age=25, city=\"New York\"))\n"
   ]
  },
  {
   "cell_type": "code",
   "execution_count": 7,
   "id": "5b1a6b6e-7d8c-402c-a6d3-bf95a4865afb",
   "metadata": {},
   "outputs": [],
   "source": [
    "def typeBasedTransformer(**kwargs):\n",
    "    \"\"\"Processes values based on their type.\"\"\"\n",
    "    transformed = {}\n",
    "    for key, value in kwargs.items():\n",
    "        if isinstance(value, (int, float)):\n",
    "            transformed[key] = value ** 2  # Square numbers\n",
    "        elif isinstance(value, str):\n",
    "            transformed[key] = value[::-1]  # Reverse the string\n",
    "        elif isinstance(value, bool):\n",
    "            transformed[key] = not value  # Invert boolean\n",
    "        elif isinstance(value, (list, tuple)):\n",
    "            transformed[key] = value[::-1]  # Reverse list/tuple\n",
    "        elif isinstance(value, dict) and len(set(value.values())) == len(value.values()):\n",
    "            transformed[key] = {v: k for k, v in value.items()}  # Swap keys and values\n",
    "        else:\n",
    "            transformed[key] = value  # Keep unchanged if unsupported type\n",
    "    return transformed\n"
   ]
  },
  {
   "cell_type": "code",
   "execution_count": 8,
   "id": "221052ef-0e3e-43fd-8e4b-42ee143d9062",
   "metadata": {},
   "outputs": [
    {
     "name": "stdout",
     "output_type": "stream",
     "text": [
      "{'a': 16, 'b': 'olleH', 'c': 1, 'd': [3, 2, 1], 'e': {1: 'x', 2: 'y'}}\n"
     ]
    }
   ],
   "source": [
    "# Testing the function\n",
    "print(typeBasedTransformer(a=4, b=\"Hello\", c=True, d=[1, 2, 3], e={\"x\": 1, \"y\": 2}))"
   ]
  },
  {
   "cell_type": "code",
   "execution_count": 9,
   "id": "76129028-0251-42dc-9f5e-5163cdface4c",
   "metadata": {},
   "outputs": [],
   "source": [
    "import time\n",
    "\n",
    "def decorator_1(func):\n",
    "    \"\"\"Decorator to calculate function execution time.\"\"\"\n",
    "    def wrapper(*args, **kwargs):\n",
    "        start_time = time.time()\n",
    "        result = func(*args, **kwargs)\n",
    "        end_time = time.time()\n",
    "        print(f\"{func.__name__} call executed in {end_time - start_time:.4f} sec\")\n",
    "        return result\n",
    "    return wrapper\n"
   ]
  },
  {
   "cell_type": "code",
   "execution_count": 10,
   "id": "b544ce72-20d3-4acc-a806-74270fd3dfb3",
   "metadata": {},
   "outputs": [
    {
     "name": "stdout",
     "output_type": "stream",
     "text": [
      "Example function executed\n",
      "example_function call executed in 1.0114 sec\n"
     ]
    }
   ],
   "source": [
    "@decorator_1\n",
    "def example_function():\n",
    "    time.sleep(1)  \n",
    "    print(\"Example function executed\")\n",
    "\n",
    "example_function()\n"
   ]
  },
  {
   "cell_type": "code",
   "execution_count": 11,
   "id": "677b120d-aee5-4814-a06e-3d2dae9f76c3",
   "metadata": {},
   "outputs": [
    {
     "name": "stdout",
     "output_type": "stream",
     "text": [
      "I am ready to Start\n",
      "func call executed in 0.0002 sec\n",
      "I am ready to do serious stuff\n",
      "funx call executed in 0.0001 sec\n",
      "I am ready to Start\n",
      "func call executed in 0.0001 sec\n",
      "I am ready to do serious stuff\n",
      "funx call executed in 0.0001 sec\n",
      "I am ready to Start\n",
      "func call executed in 0.0001 sec\n"
     ]
    }
   ],
   "source": [
    "import random\n",
    "\n",
    "@decorator_1\n",
    "def func():\n",
    "    print(\"I am ready to Start\")\n",
    "    result = 0\n",
    "    n = random.randint(10, 751)\n",
    "    for i in range(n):\n",
    "        result += (i ** 2)\n",
    "\n",
    "@decorator_1\n",
    "def funx(n=2, m=5):\n",
    "    print(\"I am ready to do serious stuff\")\n",
    "    max_val = float('-inf')\n",
    "    n = random.randint(10, 751)\n",
    "    res = [pow(i, 2) for i in range(n)]\n",
    "    for i in res:\n",
    "        if i > max_val:\n",
    "            max_val = i\n",
    "func()\n",
    "funx()\n",
    "func()\n",
    "funx()\n",
    "func()\n"
   ]
  },
  {
   "cell_type": "code",
   "execution_count": null,
   "id": "fba80e9b-f03d-4b21-90c5-a8a6dbbbb4f9",
   "metadata": {},
   "outputs": [],
   "source": []
  }
 ],
 "metadata": {
  "kernelspec": {
   "display_name": "Python 3 (ipykernel)",
   "language": "python",
   "name": "python3"
  },
  "language_info": {
   "codemirror_mode": {
    "name": "ipython",
    "version": 3
   },
   "file_extension": ".py",
   "mimetype": "text/x-python",
   "name": "python",
   "nbconvert_exporter": "python",
   "pygments_lexer": "ipython3",
   "version": "3.13.2"
  }
 },
 "nbformat": 4,
 "nbformat_minor": 5
}
